{
 "cells": [
  {
   "cell_type": "code",
   "execution_count": 1,
   "metadata": {},
   "outputs": [
    {
     "name": "stderr",
     "output_type": "stream",
     "text": [
      "/home/luo/anaconda3/envs/mdd/lib/python3.11/site-packages/tqdm/auto.py:21: TqdmWarning: IProgress not found. Please update jupyter and ipywidgets. See https://ipywidgets.readthedocs.io/en/stable/user_install.html\n",
      "  from .autonotebook import tqdm as notebook_tqdm\n"
     ]
    }
   ],
   "source": [
    "import pandas as pd \n",
    "import matplotlib. pyplot as plt \n",
    "import seaborn as sns\n",
    "from matplotlib import style \n",
    "style.use('ggplot')\n",
    "import re\n",
    "from nltk.tokenize import word_tokenize\n",
    "from nltk.stem import WordNetLemmatizer\n",
    "from nltk.corpus import stopwords\n",
    "stop_words = set(stopwords.words(\"english\"))\n",
    "from wordcloud import WordCloud\n",
    "from sklearn.feature_extraction.text import TfidfVectorizer\n",
    "from sklearn.model_selection import train_test_split\n",
    "from sklearn.tree import DecisionTreeClassifier\n",
    "from sklearn.metrics import accuracy_score,classification_report, confusion_matrix, f1_score\n",
    "from transformers import AutoTokenizer, AutoModelForSequenceClassification\n",
    "import torch\n"
   ]
  },
  {
   "cell_type": "code",
   "execution_count": 2,
   "metadata": {},
   "outputs": [
    {
     "name": "stdout",
     "output_type": "stream",
     "text": [
      "<class 'pandas.core.frame.DataFrame'>\n",
      "RangeIndex: 1000 entries, 0 to 999\n",
      "Data columns (total 2 columns):\n",
      " #   Column  Non-Null Count  Dtype \n",
      "---  ------  --------------  ----- \n",
      " 0   tweet   1000 non-null   object\n",
      " 1   label   1000 non-null   int64 \n",
      "dtypes: int64(1), object(1)\n",
      "memory usage: 15.8+ KB\n"
     ]
    }
   ],
   "source": [
    "df = pd.read_csv(\"/home/luo/projects/MDD/data/depress twitter english/depress_twitter_English.csv\")\n",
    "df.info()"
   ]
  },
  {
   "cell_type": "code",
   "execution_count": 3,
   "metadata": {},
   "outputs": [],
   "source": [
    "def data_preprocessing (text):\n",
    "    if isinstance(text, float):\n",
    "        text=''\n",
    "\n",
    "    text = text.lower()\n",
    "    text = re.sub(r\"http\\s+|www\\S+http\\S+\", \"\",text,flags=re.MULTILINE)\n",
    "    text = re.sub(r'\\@w+|\\#','',text)\n",
    "    text = re.sub(r'[^\\w\\s]','',text)\n",
    "    text = re.sub(\"user\",'',text)\n",
    "    text = re.sub(\"url\",'',text)\n",
    "    text_tokens = word_tokenize(text)\n",
    "    filtered_text = [w for w in text_tokens if not w in stop_words]\n",
    "    return \" \".join(filtered_text)"
   ]
  },
  {
   "cell_type": "code",
   "execution_count": 4,
   "metadata": {},
   "outputs": [
    {
     "name": "stderr",
     "output_type": "stream",
     "text": [
      "/tmp/ipykernel_3475104/1806502255.py:1: UserWarning: Pandas doesn't allow columns to be created via a new attribute name - see https://pandas.pydata.org/pandas-docs/stable/indexing.html#attribute-access\n",
      "  df.text = df[\"tweet\"].apply(data_preprocessing)\n"
     ]
    },
    {
     "data": {
      "text/html": [
       "<div>\n",
       "<style scoped>\n",
       "    .dataframe tbody tr th:only-of-type {\n",
       "        vertical-align: middle;\n",
       "    }\n",
       "\n",
       "    .dataframe tbody tr th {\n",
       "        vertical-align: top;\n",
       "    }\n",
       "\n",
       "    .dataframe thead th {\n",
       "        text-align: right;\n",
       "    }\n",
       "</style>\n",
       "<table border=\"1\" class=\"dataframe\">\n",
       "  <thead>\n",
       "    <tr style=\"text-align: right;\">\n",
       "      <th></th>\n",
       "      <th>tweet</th>\n",
       "      <th>label</th>\n",
       "    </tr>\n",
       "  </thead>\n",
       "  <tbody>\n",
       "    <tr>\n",
       "      <th>0</th>\n",
       "      <td>I just don’t take my baby out because it gives...</td>\n",
       "      <td>1</td>\n",
       "    </tr>\n",
       "    <tr>\n",
       "      <th>1</th>\n",
       "      <td>Suicide figures are up 200% since lockdown. \\n...</td>\n",
       "      <td>1</td>\n",
       "    </tr>\n",
       "    <tr>\n",
       "      <th>2</th>\n",
       "      <td>she has really been feeding us this week https...</td>\n",
       "      <td>0</td>\n",
       "    </tr>\n",
       "    <tr>\n",
       "      <th>3</th>\n",
       "      <td>I can confirm that yes, I do need to stay on m...</td>\n",
       "      <td>1</td>\n",
       "    </tr>\n",
       "    <tr>\n",
       "      <th>4</th>\n",
       "      <td>Today is pie day! Celebrate with your \"I Ate P...</td>\n",
       "      <td>0</td>\n",
       "    </tr>\n",
       "  </tbody>\n",
       "</table>\n",
       "</div>"
      ],
      "text/plain": [
       "                                               tweet  label\n",
       "0  I just don’t take my baby out because it gives...      1\n",
       "1  Suicide figures are up 200% since lockdown. \\n...      1\n",
       "2  she has really been feeding us this week https...      0\n",
       "3  I can confirm that yes, I do need to stay on m...      1\n",
       "4  Today is pie day! Celebrate with your \"I Ate P...      0"
      ]
     },
     "execution_count": 4,
     "metadata": {},
     "output_type": "execute_result"
    }
   ],
   "source": [
    "df.text = df[\"tweet\"].apply(data_preprocessing)\n",
    "df.head()"
   ]
  },
  {
   "cell_type": "code",
   "execution_count": 5,
   "metadata": {},
   "outputs": [
    {
     "data": {
      "text/plain": [
       "<Axes: xlabel='label', ylabel='count'>"
      ]
     },
     "execution_count": 5,
     "metadata": {},
     "output_type": "execute_result"
    },
    {
     "data": {
      "image/png": "[encoded data removed]",
      "text/plain": [
       "<Figure size 500x500 with 1 Axes>"
      ]
     },
     "metadata": {},
     "output_type": "display_data"
    }
   ],
   "source": [
    "\n",
    "df.text = df[\"tweet\"].apply(data_preprocessing)\n",
    "df = df.drop_duplicates('tweet')\n",
    "df['label'].value_counts()\n",
    "fig = plt.figure(figsize=(5,5))\n",
    "sns.countplot(x = 'label', data=df)"
   ]
  },
  {
   "cell_type": "code",
   "execution_count": 6,
   "metadata": {},
   "outputs": [],
   "source": [
    "import numpy as np\n",
    "\n",
    "from scipy.special import softmax"
   ]
  },
  {
   "cell_type": "code",
   "execution_count": 8,
   "metadata": {},
   "outputs": [
    {
     "name": "stdout",
     "output_type": "stream",
     "text": [
      "              precision    recall  f1-score   support\n",
      "\n",
      "           0       0.41      0.33      0.36       500\n",
      "           1       0.44      0.53      0.48       500\n",
      "\n",
      "    accuracy                           0.43      1000\n",
      "   macro avg       0.43      0.43      0.42      1000\n",
      "weighted avg       0.43      0.43      0.42      1000\n",
      "\n"
     ]
    }
   ],
   "source": [
    "import pandas as pd\n",
    "import numpy as np\n",
    "from transformers import AutoTokenizer, AutoModelForSequenceClassification\n",
    "import torch\n",
    "from sklearn.metrics import accuracy_score, f1_score\n",
    "from scipy.special import softmax\n",
    "\n",
    "# Load tokenizer and model\n",
    "MODEL = \"siebert/sentiment-roberta-large-english\"\n",
    "tokenizer = AutoTokenizer.from_pretrained(MODEL)\n",
    "model = AutoModelForSequenceClassification.from_pretrained(MODEL)\n",
    "\n",
    "# Load the dataset\n",
    "\n",
    "# Create lists to store predictions and true labels\n",
    "predicted_labels = []\n",
    "true_labels = df['label'].tolist()  # Assuming 'true_label' is the column name for true labels\n",
    "\n",
    "# Inspect the model to find the number of labels it predicts\n",
    "num_labels = model.config.num_labels\n",
    "\n",
    "# Define the label mapping (assuming 0: 'not depression', 1: 'depression')\n",
    "# Adjust this mapping if your model uses different indices\n",
    "labels = {i: i for i in range(num_labels)}\n",
    "\n",
    "# Iterate through the DataFrame and make predictions\n",
    "for index, row in df.iterrows():\n",
    "    text = row['tweet']\n",
    "    true_label = row['label']\n",
    "\n",
    "    # Tokenize and make predictions\n",
    "    encoded_input = tokenizer(text, return_tensors='pt', truncation=True, padding=True, max_length=512)\n",
    "    output = model(**encoded_input)\n",
    "    scores = output.logits[0].detach().numpy()\n",
    "    scores = softmax(scores)\n",
    "\n",
    "    # Get predicted label\n",
    "    predicted_label_index = np.argmax(scores)\n",
    "    predicted_label = labels[predicted_label_index]\n",
    "\n",
    "    # Store predicted labels\n",
    "    predicted_labels.append(predicted_label)\n",
    "\n",
    "# Add the predicted labels to the DataFrame\n",
    "df['predicted_sentiment'] = predicted_labels\n",
    "\n",
    "# Calculate accuracy and F1 score\n",
    "cm = classification_report(true_labels,predicted_labels)\n",
    "print(cm)\n"
   ]
  },
  {
   "cell_type": "code",
   "execution_count": null,
   "metadata": {},
   "outputs": [],
   "source": []
  }
 ],
 "metadata": {
  "kernelspec": {
   "display_name": "base",
   "language": "python",
   "name": "python3"
  },
  "language_info": {
   "codemirror_mode": {
    "name": "ipython",
    "version": 3
   },
   "file_extension": ".py",
   "mimetype": "text/x-python",
   "name": "python",
   "nbconvert_exporter": "python",
   "pygments_lexer": "ipython3",
   "version": "3.11.9"
  }
 },
 "nbformat": 4,
 "nbformat_minor": 2
}

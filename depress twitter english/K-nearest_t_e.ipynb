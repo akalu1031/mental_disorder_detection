{
 "cells": [
  {
   "cell_type": "code",
   "execution_count": 1,
   "metadata": {},
   "outputs": [],
   "source": [
    "import pandas as pd \n",
    "import matplotlib. pyplot as plt \n",
    "import seaborn as sns\n",
    "from matplotlib import style \n",
    "style.use('ggplot')\n",
    "import re\n",
    "from nltk.tokenize import word_tokenize\n",
    "from nltk.stem import WordNetLemmatizer\n",
    "from nltk.corpus import stopwords\n",
    "stop_words = set(stopwords.words(\"english\"))\n",
    "from wordcloud import WordCloud\n",
    "from sklearn.feature_extraction.text import TfidfVectorizer\n",
    "from sklearn.model_selection import train_test_split\n",
    "from sklearn.neighbors import KNeighborsClassifier\n",
    "from sklearn.metrics import accuracy_score,classification_report, confusion_matrix, f1_score\n",
    "\n"
   ]
  },
  {
   "cell_type": "code",
   "execution_count": 2,
   "metadata": {},
   "outputs": [
    {
     "name": "stdout",
     "output_type": "stream",
     "text": [
      "<class 'pandas.core.frame.DataFrame'>\n",
      "RangeIndex: 1000 entries, 0 to 999\n",
      "Data columns (total 2 columns):\n",
      " #   Column  Non-Null Count  Dtype \n",
      "---  ------  --------------  ----- \n",
      " 0   tweet   1000 non-null   object\n",
      " 1   label   1000 non-null   int64 \n",
      "dtypes: int64(1), object(1)\n",
      "memory usage: 15.8+ KB\n"
     ]
    }
   ],
   "source": [
    "df = pd.read_csv(\"/home/luo/projects/MDD/data/depress twitter english/depress_twitter_English.csv\")\n",
    "df.info()"
   ]
  },
  {
   "cell_type": "code",
   "execution_count": 3,
   "metadata": {},
   "outputs": [],
   "source": [
    "def data_preprocessing (text):\n",
    "    if isinstance(text, float):\n",
    "        text=''\n",
    "\n",
    "    text = text.lower()\n",
    "    text = re.sub(r\"http\\s+|www\\S+http\\S+\", \"\",text,flags=re.MULTILINE)\n",
    "    text = re.sub(r'\\@w+|\\#','',text)\n",
    "    text = re.sub(r'[^\\w\\s]','',text)\n",
    "    text = re.sub(\"user\",'',text)\n",
    "    text = re.sub(\"url\",'',text)\n",
    "    text_tokens = word_tokenize(text)\n",
    "    filtered_text = [w for w in text_tokens if not w in stop_words]\n",
    "    return \" \".join(filtered_text)"
   ]
  },
  {
   "cell_type": "code",
   "execution_count": 4,
   "metadata": {},
   "outputs": [
    {
     "name": "stderr",
     "output_type": "stream",
     "text": [
      "/tmp/ipykernel_3474860/1806502255.py:1: UserWarning: Pandas doesn't allow columns to be created via a new attribute name - see https://pandas.pydata.org/pandas-docs/stable/indexing.html#attribute-access\n",
      "  df.text = df[\"tweet\"].apply(data_preprocessing)\n"
     ]
    },
    {
     "data": {
      "text/html": [
       "<div>\n",
       "<style scoped>\n",
       "    .dataframe tbody tr th:only-of-type {\n",
       "        vertical-align: middle;\n",
       "    }\n",
       "\n",
       "    .dataframe tbody tr th {\n",
       "        vertical-align: top;\n",
       "    }\n",
       "\n",
       "    .dataframe thead th {\n",
       "        text-align: right;\n",
       "    }\n",
       "</style>\n",
       "<table border=\"1\" class=\"dataframe\">\n",
       "  <thead>\n",
       "    <tr style=\"text-align: right;\">\n",
       "      <th></th>\n",
       "      <th>tweet</th>\n",
       "      <th>label</th>\n",
       "    </tr>\n",
       "  </thead>\n",
       "  <tbody>\n",
       "    <tr>\n",
       "      <th>0</th>\n",
       "      <td>I just don’t take my baby out because it gives...</td>\n",
       "      <td>1</td>\n",
       "    </tr>\n",
       "    <tr>\n",
       "      <th>1</th>\n",
       "      <td>Suicide figures are up 200% since lockdown. \\n...</td>\n",
       "      <td>1</td>\n",
       "    </tr>\n",
       "    <tr>\n",
       "      <th>2</th>\n",
       "      <td>she has really been feeding us this week https...</td>\n",
       "      <td>0</td>\n",
       "    </tr>\n",
       "    <tr>\n",
       "      <th>3</th>\n",
       "      <td>I can confirm that yes, I do need to stay on m...</td>\n",
       "      <td>1</td>\n",
       "    </tr>\n",
       "    <tr>\n",
       "      <th>4</th>\n",
       "      <td>Today is pie day! Celebrate with your \"I Ate P...</td>\n",
       "      <td>0</td>\n",
       "    </tr>\n",
       "  </tbody>\n",
       "</table>\n",
       "</div>"
      ],
      "text/plain": [
       "                                               tweet  label\n",
       "0  I just don’t take my baby out because it gives...      1\n",
       "1  Suicide figures are up 200% since lockdown. \\n...      1\n",
       "2  she has really been feeding us this week https...      0\n",
       "3  I can confirm that yes, I do need to stay on m...      1\n",
       "4  Today is pie day! Celebrate with your \"I Ate P...      0"
      ]
     },
     "execution_count": 4,
     "metadata": {},
     "output_type": "execute_result"
    }
   ],
   "source": [
    "df.text = df[\"tweet\"].apply(data_preprocessing)\n",
    "df.head()"
   ]
  },
  {
   "cell_type": "code",
   "execution_count": 5,
   "metadata": {},
   "outputs": [
    {
     "name": "stderr",
     "output_type": "stream",
     "text": [
      "c:\\python\\python install\\Lib\\site-packages\\seaborn\\_oldcore.py:1498: FutureWarning: is_categorical_dtype is deprecated and will be removed in a future version. Use isinstance(dtype, CategoricalDtype) instead\n",
      "  if pd.api.types.is_categorical_dtype(vector):\n",
      "c:\\python\\python install\\Lib\\site-packages\\seaborn\\_oldcore.py:1498: FutureWarning: is_categorical_dtype is deprecated and will be removed in a future version. Use isinstance(dtype, CategoricalDtype) instead\n",
      "  if pd.api.types.is_categorical_dtype(vector):\n",
      "c:\\python\\python install\\Lib\\site-packages\\seaborn\\_oldcore.py:1498: FutureWarning: is_categorical_dtype is deprecated and will be removed in a future version. Use isinstance(dtype, CategoricalDtype) instead\n",
      "  if pd.api.types.is_categorical_dtype(vector):\n"
     ]
    },
    {
     "data": {
      "text/plain": [
       "<Axes: xlabel='label', ylabel='count'>"
      ]
     },
     "execution_count": 5,
     "metadata": {},
     "output_type": "execute_result"
    },
    {
     "data": {
      "image/png": "[encoded data removed]",
      "text/plain": [
       "<Figure size 500x500 with 1 Axes>"
      ]
     },
     "metadata": {},
     "output_type": "display_data"
    }
   ],
   "source": [
    "\n",
    "df.text = df[\"tweet\"].apply(data_preprocessing)\n",
    "df = df.drop_duplicates('tweet')\n",
    "df['label'].value_counts()\n",
    "fig = plt.figure(figsize=(5,5))\n",
    "sns.countplot(x = 'label', data=df)"
   ]
  },
  {
   "cell_type": "code",
   "execution_count": 5,
   "metadata": {},
   "outputs": [
    {
     "name": "stdout",
     "output_type": "stream",
     "text": [
      "Number of features :21833\n",
      "\n",
      "First 20 features: \n",
      "['000' '000 and' '000 collaborative' '000 strangers' '01' '01 20am'\n",
      " '01 at' '02jril6bhv' '03' '03 school' '06' '06 15' '07749' '07749 371571'\n",
      " '0800' '0800 567' '09' '09 15' '09 views' '094']\n"
     ]
    }
   ],
   "source": [
    "vect = TfidfVectorizer(ngram_range = (1,2)).fit(df['tweet'])\n",
    "feature_names = vect.get_feature_names_out()\n",
    "print('Number of features :{}\\n'.format(len(feature_names)))\n",
    "print('First 20 features: \\n{}'.format(feature_names[:20]))"
   ]
  },
  {
   "cell_type": "code",
   "execution_count": 6,
   "metadata": {},
   "outputs": [
    {
     "name": "stdout",
     "output_type": "stream",
     "text": [
      "size of x_train (800, 21833)\n",
      "size of y_train (800,)\n",
      "size of x_test (200, 21833)\n",
      "size of y_test (200,)\n"
     ]
    }
   ],
   "source": [
    "X = df['tweet']\n",
    "Y = df['label']\n",
    "X = vect.transform(X)\n",
    "\n",
    "x_train, x_test, y_train, y_test = train_test_split(X,Y, test_size= 0.2, random_state= 42)\n",
    "\n",
    "x_train = x_train[y_train.notna()]\n",
    "y_train = y_train.dropna()\n",
    "\n",
    "x_test = x_test[y_test.notna()]\n",
    "y_test = y_test.dropna()\n",
    "\n",
    "print(f'size of x_train {x_train.shape}')\n",
    "print(f'size of y_train {y_train.shape}')\n",
    "print(f'size of x_test {x_test.shape}')\n",
    "print(f'size of y_test {y_test.shape}')"
   ]
  },
  {
   "cell_type": "code",
   "execution_count": 7,
   "metadata": {},
   "outputs": [
    {
     "name": "stdout",
     "output_type": "stream",
     "text": [
      "Test accuarcy : 69.00%\n",
      "0.66\n"
     ]
    }
   ],
   "source": [
    "k = KNeighborsClassifier()\n",
    "k.fit(x_train,y_train)\n",
    "k_predict = k.predict(x_test)\n",
    "k_acc = accuracy_score(k_predict,y_test)\n",
    "print('Test accuarcy : {:.2f}%'.format(k_acc*100))\n",
    "print(round(f1_score(y_test, k_predict,pos_label=1.0),2))"
   ]
  },
  {
   "cell_type": "code",
   "execution_count": 10,
   "metadata": {},
   "outputs": [
    {
     "data": {
      "image/png": "[encoded data removed]",
      "text/plain": [
       "<Figure size 640x480 with 2 Axes>"
      ]
     },
     "metadata": {},
     "output_type": "display_data"
    }
   ],
   "source": [
    "cm = confusion_matrix(y_test,k_predict)\n",
    "sns.heatmap(cm,\n",
    "            annot= True,\n",
    "            fmt='g',\n",
    "            xticklabels=['Depress','NOT'],\n",
    "            yticklabels=['Depress','NOT'])\n",
    "plt.ylabel('Prediction', fontsize = 10)\n",
    "plt.xlabel('Actual',fontsize = 10)\n",
    "plt.title(\"K-Nearest\", fontsize = 13)\n",
    "plt.show()\n"
   ]
  }
 ],
 "metadata": {
  "kernelspec": {
   "display_name": "base",
   "language": "python",
   "name": "python3"
  },
  "language_info": {
   "codemirror_mode": {
    "name": "ipython",
    "version": 3
   },
   "file_extension": ".py",
   "mimetype": "text/x-python",
   "name": "python",
   "nbconvert_exporter": "python",
   "pygments_lexer": "ipython3",
   "version": "3.11.9"
  }
 },
 "nbformat": 4,
 "nbformat_minor": 2
}

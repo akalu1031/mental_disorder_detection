{
 "cells": [
  {
   "cell_type": "code",
   "execution_count": 3,
   "metadata": {},
   "outputs": [],
   "source": [
    "import pandas as pd \n",
    "import matplotlib. pyplot as plt \n",
    "import seaborn as sns\n",
    "from matplotlib import style \n",
    "style.use('ggplot')\n",
    "import re\n",
    "from nltk.tokenize import word_tokenize\n",
    "from nltk.stem import WordNetLemmatizer\n",
    "from nltk.corpus import stopwords\n",
    "stop_words = set(stopwords.words(\"english\"))\n",
    "from wordcloud import WordCloud\n",
    "from sklearn.feature_extraction.text import TfidfVectorizer\n",
    "from sklearn.model_selection import train_test_split\n",
    "from sklearn.tree import DecisionTreeClassifier\n",
    "from sklearn.metrics import accuracy_score,classification_report, confusion_matrix, f1_score\n",
    "\n"
   ]
  },
  {
   "cell_type": "code",
   "execution_count": 4,
   "metadata": {},
   "outputs": [
    {
     "name": "stdout",
     "output_type": "stream",
     "text": [
      "<class 'pandas.core.frame.DataFrame'>\n",
      "RangeIndex: 3600 entries, 0 to 3599\n",
      "Data columns (total 4 columns):\n",
      " #   Column  Non-Null Count  Dtype \n",
      "---  ------  --------------  ----- \n",
      " 0   Label   3600 non-null   object\n",
      " 1   author  3600 non-null   object\n",
      " 2   date    3600 non-null   object\n",
      " 3   post    3600 non-null   object\n",
      "dtypes: object(4)\n",
      "memory usage: 112.6+ KB\n"
     ]
    }
   ],
   "source": [
    "import pandas as pd\n",
    "\n",
    "# Attempt to read the CSV file with different encodings\n",
    "try:\n",
    "    df = pd.read_csv(\"C:/Adv seminar/graduation thesis/data/multiclass/reddit mental disord.csv\", encoding='utf-8')\n",
    "except UnicodeDecodeError:\n",
    "    try:\n",
    "        df = pd.read_csv(\"C:/Adv seminar/graduation thesis/data/multiclass/reddit mental disord.csv\", encoding='ISO-8859-1')\n",
    "    except UnicodeDecodeError:\n",
    "        try:\n",
    "            df = pd.read_csv(\"C:/Adv seminar/graduation thesis/data/multiclass/reddit mental disord.csv\", encoding='latin1')\n",
    "        except UnicodeDecodeError:\n",
    "            try:\n",
    "                df = pd.read_csv(\"C:/Adv seminar/graduation thesis/data/multiclass/reddit mental disord.csv\", encoding='utf-16')\n",
    "            except UnicodeDecodeError as e:\n",
    "                print(\"Failed to read the CSV file with different encodings.\")\n",
    "                raise e\n",
    "\n",
    "# Display the first few rows of the DataFrame\n",
    "df.info()\n"
   ]
  },
  {
   "cell_type": "code",
   "execution_count": 5,
   "metadata": {},
   "outputs": [],
   "source": [
    "def data_pre_processing(text):\n",
    "    text = text.lower()\n",
    "    text = re.sub(r\"(http\\s+|www\\S+http\\S+)\", \"\",text,flags=re.MULTILINE)\n",
    "    text = re.sub(r'\\@w+|\\#','',text)\n",
    "    text = re.sub(r'[^\\w\\s]','',text)\n",
    "    text = re.sub(\"user\",'',text)\n",
    "    text = re.sub(\"url\",'',text)\n",
    "    text_tokens = word_tokenize(text)\n",
    "    filtered_text = [w for w in text_tokens if not w in stop_words]\n",
    "    return \" \".join(filtered_text)"
   ]
  },
  {
   "cell_type": "code",
   "execution_count": 6,
   "metadata": {},
   "outputs": [
    {
     "name": "stderr",
     "output_type": "stream",
     "text": [
      "c:\\python\\python install\\Lib\\site-packages\\seaborn\\_oldcore.py:1498: FutureWarning: is_categorical_dtype is deprecated and will be removed in a future version. Use isinstance(dtype, CategoricalDtype) instead\n",
      "  if pd.api.types.is_categorical_dtype(vector):\n",
      "c:\\python\\python install\\Lib\\site-packages\\seaborn\\_oldcore.py:1498: FutureWarning: is_categorical_dtype is deprecated and will be removed in a future version. Use isinstance(dtype, CategoricalDtype) instead\n",
      "  if pd.api.types.is_categorical_dtype(vector):\n",
      "c:\\python\\python install\\Lib\\site-packages\\seaborn\\_oldcore.py:1498: FutureWarning: is_categorical_dtype is deprecated and will be removed in a future version. Use isinstance(dtype, CategoricalDtype) instead\n",
      "  if pd.api.types.is_categorical_dtype(vector):\n"
     ]
    },
    {
     "data": {
      "text/plain": [
       "<Axes: xlabel='Label', ylabel='count'>"
      ]
     },
     "execution_count": 6,
     "metadata": {},
     "output_type": "execute_result"
    },
    {
     "data": {
      "image/png": "[encoded data removed]",
      "text/plain": [
       "<Figure size 1000x500 with 1 Axes>"
      ]
     },
     "metadata": {},
     "output_type": "display_data"
    }
   ],
   "source": [
    "df.post = df['post'].apply(data_pre_processing)\n",
    "df = df.drop_duplicates('post')\n",
    "df['Label'].value_counts()\n",
    "fig = plt.figure(figsize=(10,5))\n",
    "sns.countplot(x = 'Label', data=df)"
   ]
  },
  {
   "cell_type": "code",
   "execution_count": 7,
   "metadata": {},
   "outputs": [
    {
     "name": "stdout",
     "output_type": "stream",
     "text": [
      "Number of features: 226500\n",
      "\n",
      "First 20 features : \n",
      "['0000005' '0000005 percent' '005' '005 overall' '010' '010 would' '0100'\n",
      " '0100 worked' '019'\n",
      " '019 httpswwwtwitchtvxaltvcliparbitraryrelatedjalapenopunchtrees' '02'\n",
      " '02 mmoll' '02 range' '025mg' '025mg anxiety' '025mg xanax' '03'\n",
      " '03 2020' '03 mgkg' '03506']\n"
     ]
    }
   ],
   "source": [
    "vect = TfidfVectorizer(ngram_range=(1,2)).fit(df['post'])\n",
    "feature_names = vect.get_feature_names_out()\n",
    "print('Number of features: {}\\n'.format(len(feature_names)))\n",
    "print('First 20 features : \\n{}'.format(feature_names[:20]))"
   ]
  },
  {
   "cell_type": "code",
   "execution_count": 8,
   "metadata": {},
   "outputs": [
    {
     "name": "stdout",
     "output_type": "stream",
     "text": [
      "size of x_train (2863, 226500)\n",
      "size of y_train (2863,)\n",
      "size of x_test (716, 226500)\n",
      "size of y_test (716,)\n"
     ]
    }
   ],
   "source": [
    "X = df['post']\n",
    "Y = df['Label']\n",
    "X = vect.transform(X)\n",
    "\n",
    "x_train, x_test, y_train, y_test = train_test_split(X,Y, test_size= 0.2, random_state= 42)\n",
    "\n",
    "x_train = x_train[y_train.notna()]\n",
    "y_train = y_train.dropna()\n",
    "\n",
    "x_test = x_test[y_test.notna()]\n",
    "y_test = y_test.dropna()\n",
    "\n",
    "print(f'size of x_train {x_train.shape}')\n",
    "print(f'size of y_train {y_train.shape}')\n",
    "print(f'size of x_test {x_test.shape}')\n",
    "print(f'size of y_test {y_test.shape}')"
   ]
  },
  {
   "cell_type": "code",
   "execution_count": 9,
   "metadata": {},
   "outputs": [
    {
     "name": "stdout",
     "output_type": "stream",
     "text": [
      "              precision    recall  f1-score   support\n",
      "\n",
      "   addiction       0.49      0.48      0.48        71\n",
      "        adhd       0.57      0.61      0.59        98\n",
      "  alcoholism       0.73      0.64      0.68        83\n",
      "     anxiety       0.62      0.53      0.57        78\n",
      "      autism       0.65      0.55      0.60        74\n",
      "     bipolar       0.58      0.60      0.59        77\n",
      "  depression       0.30      0.43      0.35        75\n",
      "        ptsd       0.75      0.71      0.73        77\n",
      "suicidewatch       0.51      0.48      0.50        83\n",
      "\n",
      "    accuracy                           0.56       716\n",
      "   macro avg       0.58      0.56      0.57       716\n",
      "weighted avg       0.58      0.56      0.57       716\n",
      "\n"
     ]
    }
   ],
   "source": [
    "decision_tree = DecisionTreeClassifier()\n",
    "decision_tree.fit(x_train,y_train)\n",
    "tree_predict = decision_tree.predict(x_test)\n",
    "cm = classification_report(y_test,tree_predict)\n",
    "print(cm)"
   ]
  }
 ],
 "metadata": {
  "kernelspec": {
   "display_name": "base",
   "language": "python",
   "name": "python3"
  },
  "language_info": {
   "codemirror_mode": {
    "name": "ipython",
    "version": 3
   },
   "file_extension": ".py",
   "mimetype": "text/x-python",
   "name": "python",
   "nbconvert_exporter": "python",
   "pygments_lexer": "ipython3",
   "version": "3.11.4"
  }
 },
 "nbformat": 4,
 "nbformat_minor": 2
}

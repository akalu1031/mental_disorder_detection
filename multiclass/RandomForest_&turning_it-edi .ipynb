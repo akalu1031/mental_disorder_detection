{
 "cells": [
  {
   "cell_type": "code",
   "execution_count": 1,
   "metadata": {},
   "outputs": [],
   "source": [
    "import pandas as pd \n",
    "import matplotlib. pyplot as plt \n",
    "import seaborn as sns\n",
    "from matplotlib import style \n",
    "style.use('ggplot')\n",
    "import re\n",
    "from nltk.tokenize import word_tokenize\n",
    "from nltk.stem import WordNetLemmatizer\n",
    "from nltk.corpus import stopwords\n",
    "stop_words = set(stopwords.words(\"english\"))\n",
    "from wordcloud import WordCloud\n",
    "from sklearn.feature_extraction.text import TfidfVectorizer\n",
    "from sklearn.model_selection import train_test_split\n",
    "from sklearn.ensemble import RandomForestClassifier\n",
    "from sklearn.metrics import accuracy_score,classification_report, confusion_matrix, f1_score\n",
    "\n"
   ]
  },
  {
   "cell_type": "code",
   "execution_count": 4,
   "metadata": {},
   "outputs": [
    {
     "name": "stdout",
     "output_type": "stream",
     "text": [
      "<class 'pandas.core.frame.DataFrame'>\n",
      "RangeIndex: 3600 entries, 0 to 3599\n",
      "Data columns (total 4 columns):\n",
      " #   Column  Non-Null Count  Dtype \n",
      "---  ------  --------------  ----- \n",
      " 0   Label   3600 non-null   object\n",
      " 1   author  3600 non-null   object\n",
      " 2   date    3600 non-null   object\n",
      " 3   post    3600 non-null   object\n",
      "dtypes: object(4)\n",
      "memory usage: 112.6+ KB\n"
     ]
    }
   ],
   "source": [
    "import pandas as pd\n",
    "\n",
    "# Attempt to read the CSV file with different encodings\n",
    "try:\n",
    "    df = pd.read_csv(\"/home/luo/projects/MDD/data/multiclass/reddit mental disord.csv\", encoding='utf-8')\n",
    "except UnicodeDecodeError:\n",
    "    try:\n",
    "        df = pd.read_csv(\"/home/luo/projects/MDD/data/multiclass/reddit mental disord.csv\", encoding='ISO-8859-1')\n",
    "    except UnicodeDecodeError:\n",
    "        try:\n",
    "            df = pd.read_csv(\"/home/luo/projects/MDD/data/multiclass/reddit mental disord.csv\", encoding='latin1')\n",
    "        except UnicodeDecodeError:\n",
    "            try:\n",
    "                df = pd.read_csv(\"/home/luo/projects/MDD/data/multiclass/reddit mental disord.csv\", encoding='utf-16')\n",
    "            except UnicodeDecodeError as e:\n",
    "                print(\"Failed to read the CSV file with different encodings.\")\n",
    "                raise e\n",
    "            \n",
    "\n",
    "# Display the first few rows of the DataFrame\n",
    "df.info()\n"
   ]
  },
  {
   "cell_type": "code",
   "execution_count": 5,
   "metadata": {},
   "outputs": [],
   "source": [
    "def data_preprocessing (text):\n",
    "    if isinstance(text, float):\n",
    "        text=''\n",
    "\n",
    "    text = text.lower()\n",
    "    text = re.sub(r\"http\\s+|www\\S+http\\S+\", \"\",text,flags=re.MULTILINE)\n",
    "    text = re.sub(r'\\@w+|\\#','',text)\n",
    "    text = re.sub(r'[^\\w\\s]','',text)\n",
    "    text = re.sub(\"user\",'',text)\n",
    "    text = re.sub(\"url\",'',text)\n",
    "    text_tokens = word_tokenize(text)\n",
    "    filtered_text = [w for w in text_tokens if not w in stop_words]\n",
    "    return \" \".join(filtered_text)"
   ]
  },
  {
   "cell_type": "code",
   "execution_count": 7,
   "metadata": {},
   "outputs": [
    {
     "name": "stderr",
     "output_type": "stream",
     "text": [
      "/tmp/ipykernel_3366841/3032018702.py:1: UserWarning: Pandas doesn't allow columns to be created via a new attribute name - see https://pandas.pydata.org/pandas-docs/stable/indexing.html#attribute-access\n",
      "  df.text = df[\"post\"].apply(data_preprocessing)\n"
     ]
    },
    {
     "data": {
      "text/plain": [
       "<Axes: xlabel='Label', ylabel='count'>"
      ]
     },
     "execution_count": 7,
     "metadata": {},
     "output_type": "execute_result"
    },
    {
     "data": {
      "image/png": "[encoded data removed]",
      "text/plain": [
       "<Figure size 500x500 with 1 Axes>"
      ]
     },
     "metadata": {},
     "output_type": "display_data"
    }
   ],
   "source": [
    "\n",
    "df.text = df[\"post\"].apply(data_preprocessing)\n",
    "df = df.drop_duplicates('post')\n",
    "df['Label'].value_counts()\n",
    "fig = plt.figure(figsize=(5,5))\n",
    "sns.countplot(x = 'Label', data=df)"
   ]
  },
  {
   "cell_type": "code",
   "execution_count": 8,
   "metadata": {},
   "outputs": [
    {
     "name": "stdout",
     "output_type": "stream",
     "text": [
      "Number of features :231037\n",
      "\n",
      "First 20 features: \n",
      "['00' '00 00' '00 07' '00 25' '00 buy' '00 every' '00 going' '00 https'\n",
      " '00 if' '00 pm' '00 when' '000' '000 000' '000 20' '000 adults'\n",
      " '000 autistic' '000 come' '000 deaths' '000 each' '000 feel']\n"
     ]
    }
   ],
   "source": [
    "vect = TfidfVectorizer(ngram_range = (1,2)).fit(df['post'])\n",
    "feature_names = vect.get_feature_names_out()\n",
    "print('Number of features :{}\\n'.format(len(feature_names)))\n",
    "print('First 20 features: \\n{}'.format(feature_names[:20]))"
   ]
  },
  {
   "cell_type": "code",
   "execution_count": 9,
   "metadata": {},
   "outputs": [
    {
     "name": "stdout",
     "output_type": "stream",
     "text": [
      "size of x_train (2870, 231037)\n",
      "size of y_train (2870,)\n",
      "size of x_test (718, 231037)\n",
      "size of y_test (718,)\n"
     ]
    }
   ],
   "source": [
    "X = df['post']\n",
    "Y = df['Label']\n",
    "X = vect.transform(X)\n",
    "\n",
    "x_train, x_test, y_train, y_test = train_test_split(X,Y, test_size= 0.2, random_state= 42)\n",
    "\n",
    "x_train = x_train[y_train.notna()]\n",
    "y_train = y_train.dropna()\n",
    "\n",
    "x_test = x_test[y_test.notna()]\n",
    "y_test = y_test.dropna()\n",
    "\n",
    "print(f'size of x_train {x_train.shape}')\n",
    "print(f'size of y_train {y_train.shape}')\n",
    "print(f'size of x_test {x_test.shape}')\n",
    "print(f'size of y_test {y_test.shape}')"
   ]
  },
  {
   "cell_type": "code",
   "execution_count": 10,
   "metadata": {},
   "outputs": [
    {
     "name": "stdout",
     "output_type": "stream",
     "text": [
      "              precision    recall  f1-score   support\n",
      "\n",
      "   addiction       0.80      0.65      0.71        79\n",
      "        adhd       0.87      0.68      0.76        96\n",
      "  alcoholism       0.77      0.87      0.82        70\n",
      "     anxiety       0.72      0.54      0.62        81\n",
      "      autism       0.69      0.80      0.74        60\n",
      "     bipolar       0.77      0.66      0.71        85\n",
      "  depression       0.33      0.55      0.41        78\n",
      "        ptsd       0.86      0.80      0.83        87\n",
      "suicidewatch       0.51      0.52      0.51        82\n",
      "\n",
      "    accuracy                           0.67       718\n",
      "   macro avg       0.70      0.68      0.68       718\n",
      "weighted avg       0.71      0.67      0.68       718\n",
      "\n"
     ]
    }
   ],
   "source": [
    "decision_random= RandomForestClassifier()\n",
    "decision_random.fit(x_train,y_train)\n",
    "random_predict = decision_random.predict(x_test)\n",
    "cm = classification_report(y_test,random_predict)\n",
    "print(cm)"
   ]
  },
  {
   "cell_type": "markdown",
   "metadata": {},
   "source": [
    "Random Forest Tuning"
   ]
  },
  {
   "cell_type": "code",
   "execution_count": 11,
   "metadata": {},
   "outputs": [
    {
     "name": "stdout",
     "output_type": "stream",
     "text": [
      "Best Parameters found: {'max_depth': 30, 'n_estimators': 200}\n",
      "              precision    recall  f1-score   support\n",
      "\n",
      "   addiction       0.80      0.62      0.70        79\n",
      "        adhd       0.86      0.59      0.70        96\n",
      "  alcoholism       0.72      0.86      0.78        70\n",
      "     anxiety       0.70      0.59      0.64        81\n",
      "      autism       0.74      0.75      0.74        60\n",
      "     bipolar       0.74      0.72      0.73        85\n",
      "  depression       0.34      0.47      0.40        78\n",
      "        ptsd       0.85      0.84      0.84        87\n",
      "suicidewatch       0.54      0.67      0.60        82\n",
      "\n",
      "    accuracy                           0.68       718\n",
      "   macro avg       0.70      0.68      0.68       718\n",
      "weighted avg       0.70      0.68      0.68       718\n",
      "\n"
     ]
    }
   ],
   "source": [
    "import numpy as np \n",
    "from sklearn.ensemble import RandomForestClassifier\n",
    "from sklearn.model_selection import GridSearchCV, train_test_split\n",
    "param_grid = {\n",
    "    'n_estimators': [50, 100, 200],\n",
    "    'max_depth': [None, 10, 20, 30]\n",
    "}\n",
    "\n",
    "decision_random= RandomForestClassifier()\n",
    "grid_search = GridSearchCV(estimator=decision_random, param_grid=  param_grid, cv = 5)\n",
    "grid_search.fit(x_train,y_train)\n",
    "print (\"Best Parameters found:\", grid_search.best_params_)\n",
    "\n",
    "best_model = grid_search.best_estimator_\n",
    "y_pred = best_model.predict(x_test)\n",
    "cm = classification_report(y_test,y_pred)\n",
    "print(cm)"
   ]
  },
  {
   "cell_type": "code",
   "execution_count": null,
   "metadata": {},
   "outputs": [],
   "source": []
  }
 ],
 "metadata": {
  "kernelspec": {
   "display_name": "base",
   "language": "python",
   "name": "python3"
  },
  "language_info": {
   "codemirror_mode": {
    "name": "ipython",
    "version": 3
   },
   "file_extension": ".py",
   "mimetype": "text/x-python",
   "name": "python",
   "nbconvert_exporter": "python",
   "pygments_lexer": "ipython3",
   "version": "3.11.9"
  }
 },
 "nbformat": 4,
 "nbformat_minor": 2
}

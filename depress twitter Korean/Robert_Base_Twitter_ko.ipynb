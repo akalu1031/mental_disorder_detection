{
 "cells": [
  {
   "cell_type": "code",
   "execution_count": 1,
   "metadata": {},
   "outputs": [
    {
     "name": "stderr",
     "output_type": "stream",
     "text": [
      "/home/luo/anaconda3/envs/mdd/lib/python3.11/site-packages/tqdm/auto.py:21: TqdmWarning: IProgress not found. Please update jupyter and ipywidgets. See https://ipywidgets.readthedocs.io/en/stable/user_install.html\n",
      "  from .autonotebook import tqdm as notebook_tqdm\n"
     ]
    }
   ],
   "source": [
    "import pandas as pd \n",
    "import matplotlib. pyplot as plt \n",
    "import seaborn as sns\n",
    "from matplotlib import style \n",
    "style.use('ggplot')\n",
    "import re\n",
    "from nltk.tokenize import word_tokenize\n",
    "from nltk.stem import WordNetLemmatizer\n",
    "from nltk.corpus import stopwords\n",
    "stop_words = set(stopwords.words(\"english\"))\n",
    "from wordcloud import WordCloud\n",
    "from sklearn.feature_extraction.text import TfidfVectorizer\n",
    "from sklearn.model_selection import train_test_split\n",
    "from sklearn.tree import DecisionTreeClassifier\n",
    "from sklearn.metrics import accuracy_score,classification_report, confusion_matrix, f1_score\n",
    "from transformers import AutoTokenizer, AutoModelForSequenceClassification\n",
    "import torch\n"
   ]
  },
  {
   "cell_type": "code",
   "execution_count": 3,
   "metadata": {},
   "outputs": [
    {
     "name": "stdout",
     "output_type": "stream",
     "text": [
      "<class 'pandas.core.frame.DataFrame'>\n",
      "RangeIndex: 1000 entries, 0 to 999\n",
      "Data columns (total 2 columns):\n",
      " #   Column  Non-Null Count  Dtype \n",
      "---  ------  --------------  ----- \n",
      " 0   tweet   1000 non-null   object\n",
      " 1   label   1000 non-null   int64 \n",
      "dtypes: int64(1), object(1)\n",
      "memory usage: 15.8+ KB\n"
     ]
    }
   ],
   "source": [
    "df = pd.read_csv(\"/home/luo/projects/MDD/data/depress twitter Korean/depress_twitter_Korean.csv\")\n",
    "df.info()"
   ]
  },
  {
   "cell_type": "code",
   "execution_count": 4,
   "metadata": {},
   "outputs": [],
   "source": [
    "def data_preprocessing (text):\n",
    "    if isinstance(text, float):\n",
    "        text=''\n",
    "\n",
    "    text = text.lower()\n",
    "    text = re.sub(r\"http\\s+|www\\S+http\\S+\", \"\",text,flags=re.MULTILINE)\n",
    "    text = re.sub(r'\\@w+|\\#','',text)\n",
    "    text = re.sub(r'[^\\w\\s]','',text)\n",
    "    text = re.sub(\"user\",'',text)\n",
    "    text = re.sub(\"url\",'',text)\n",
    "    text_tokens = word_tokenize(text)\n",
    "    filtered_text = [w for w in text_tokens if not w in stop_words]\n",
    "    return \" \".join(filtered_text)"
   ]
  },
  {
   "cell_type": "code",
   "execution_count": 5,
   "metadata": {},
   "outputs": [
    {
     "name": "stderr",
     "output_type": "stream",
     "text": [
      "/tmp/ipykernel_3449823/1806502255.py:1: UserWarning: Pandas doesn't allow columns to be created via a new attribute name - see https://pandas.pydata.org/pandas-docs/stable/indexing.html#attribute-access\n",
      "  df.text = df[\"tweet\"].apply(data_preprocessing)\n"
     ]
    },
    {
     "data": {
      "text/html": [
       "<div>\n",
       "<style scoped>\n",
       "    .dataframe tbody tr th:only-of-type {\n",
       "        vertical-align: middle;\n",
       "    }\n",
       "\n",
       "    .dataframe tbody tr th {\n",
       "        vertical-align: top;\n",
       "    }\n",
       "\n",
       "    .dataframe thead th {\n",
       "        text-align: right;\n",
       "    }\n",
       "</style>\n",
       "<table border=\"1\" class=\"dataframe\">\n",
       "  <thead>\n",
       "    <tr style=\"text-align: right;\">\n",
       "      <th></th>\n",
       "      <th>tweet</th>\n",
       "      <th>label</th>\n",
       "    </tr>\n",
       "  </thead>\n",
       "  <tbody>\n",
       "    <tr>\n",
       "      <th>0</th>\n",
       "      <td>별이야!!!!!! https://t.co/0ayXZJeew1</td>\n",
       "      <td>0</td>\n",
       "    </tr>\n",
       "    <tr>\n",
       "      <th>1</th>\n",
       "      <td>아아아아아ㅏ아아ㅏ\\n피곤한데 오랜만에 틧터하면서 밤 샐래\\n같이 하실 분? 없으면 ...</td>\n",
       "      <td>1</td>\n",
       "    </tr>\n",
       "    <tr>\n",
       "      <th>2</th>\n",
       "      <td>바둑아!!\\n개자쓱아 경인선 갔으면 화끈하게~마~\\n백신 마자쁘라\\n쪽팔리게스루 뭔...</td>\n",
       "      <td>1</td>\n",
       "    </tr>\n",
       "    <tr>\n",
       "      <th>3</th>\n",
       "      <td>외롭다,,,누가 나한테 고백 좀 해주시와요\\n#트친소 #게친소 #게이들 https:...</td>\n",
       "      <td>1</td>\n",
       "    </tr>\n",
       "    <tr>\n",
       "      <th>4</th>\n",
       "      <td>갑자기업노말재탕중 역시마음의고향이에 https://t.co/5pvwPLEnaN</td>\n",
       "      <td>0</td>\n",
       "    </tr>\n",
       "  </tbody>\n",
       "</table>\n",
       "</div>"
      ],
      "text/plain": [
       "                                               tweet  label\n",
       "0                  별이야!!!!!! https://t.co/0ayXZJeew1      0\n",
       "1  아아아아아ㅏ아아ㅏ\\n피곤한데 오랜만에 틧터하면서 밤 샐래\\n같이 하실 분? 없으면 ...      1\n",
       "2  바둑아!!\\n개자쓱아 경인선 갔으면 화끈하게~마~\\n백신 마자쁘라\\n쪽팔리게스루 뭔...      1\n",
       "3  외롭다,,,누가 나한테 고백 좀 해주시와요\\n#트친소 #게친소 #게이들 https:...      1\n",
       "4        갑자기업노말재탕중 역시마음의고향이에 https://t.co/5pvwPLEnaN      0"
      ]
     },
     "execution_count": 5,
     "metadata": {},
     "output_type": "execute_result"
    }
   ],
   "source": [
    "df.text = df[\"tweet\"].apply(data_preprocessing)\n",
    "df.head()"
   ]
  },
  {
   "cell_type": "code",
   "execution_count": 6,
   "metadata": {},
   "outputs": [
    {
     "data": {
      "text/plain": [
       "<Axes: xlabel='label', ylabel='count'>"
      ]
     },
     "execution_count": 6,
     "metadata": {},
     "output_type": "execute_result"
    },
    {
     "data": {
      "image/png": "[encoded data removed]",
      "text/plain": [
       "<Figure size 500x500 with 1 Axes>"
      ]
     },
     "metadata": {},
     "output_type": "display_data"
    }
   ],
   "source": [
    "\n",
    "df.text = df[\"tweet\"].apply(data_preprocessing)\n",
    "df = df.drop_duplicates('tweet')\n",
    "df['label'].value_counts()\n",
    "fig = plt.figure(figsize=(5,5))\n",
    "sns.countplot(x = 'label', data=df)"
   ]
  },
  {
   "cell_type": "code",
   "execution_count": 7,
   "metadata": {},
   "outputs": [],
   "source": [
    "import numpy as np"
   ]
  },
  {
   "cell_type": "code",
   "execution_count": 11,
   "metadata": {},
   "outputs": [
    {
     "name": "stderr",
     "output_type": "stream",
     "text": [
      "c:\\Users\\xingr\\miniconda3\\lib\\site-packages\\huggingface_hub\\file_download.py:157: UserWarning: `huggingface_hub` cache-system uses symlinks by default to efficiently store duplicated files but your machine does not support them in C:\\Users\\xingr\\.cache\\huggingface\\hub\\models--lxyuan--distilbert-base-multilingual-cased-sentiments-student. Caching files will still work but in a degraded version that might require more space on your disk. This warning can be disabled by setting the `HF_HUB_DISABLE_SYMLINKS_WARNING` environment variable. For more details, see https://huggingface.co/docs/huggingface_hub/how-to-cache#limitations.\n",
      "To support symlinks on Windows, you either need to activate Developer Mode or to run Python as an administrator. In order to see activate developer mode, see this article: https://docs.microsoft.com/en-us/windows/apps/get-started/enable-your-device-for-development\n",
      "  warnings.warn(message)\n"
     ]
    },
    {
     "name": "stdout",
     "output_type": "stream",
     "text": [
      "              precision    recall  f1-score   support\n",
      "\n",
      "           0       0.48      0.64      0.55       500\n",
      "           1       0.00      0.00      0.00       487\n",
      "           2       0.00      0.00      0.00         0\n",
      "\n",
      "    accuracy                           0.33       987\n",
      "   macro avg       0.16      0.21      0.18       987\n",
      "weighted avg       0.24      0.33      0.28       987\n",
      "\n"
     ]
    },
    {
     "name": "stderr",
     "output_type": "stream",
     "text": [
      "c:\\Users\\xingr\\miniconda3\\lib\\site-packages\\sklearn\\metrics\\_classification.py:1471: UndefinedMetricWarning: Recall and F-score are ill-defined and being set to 0.0 in labels with no true samples. Use `zero_division` parameter to control this behavior.\n",
      "  _warn_prf(average, modifier, msg_start, len(result))\n",
      "c:\\Users\\xingr\\miniconda3\\lib\\site-packages\\sklearn\\metrics\\_classification.py:1471: UndefinedMetricWarning: Recall and F-score are ill-defined and being set to 0.0 in labels with no true samples. Use `zero_division` parameter to control this behavior.\n",
      "  _warn_prf(average, modifier, msg_start, len(result))\n",
      "c:\\Users\\xingr\\miniconda3\\lib\\site-packages\\sklearn\\metrics\\_classification.py:1471: UndefinedMetricWarning: Recall and F-score are ill-defined and being set to 0.0 in labels with no true samples. Use `zero_division` parameter to control this behavior.\n",
      "  _warn_prf(average, modifier, msg_start, len(result))\n"
     ]
    }
   ],
   "source": [
    "import pandas as pd\n",
    "import numpy as np\n",
    "from transformers import AutoTokenizer, AutoModelForSequenceClassification\n",
    "import torch\n",
    "from sklearn.metrics import accuracy_score, f1_score\n",
    "from scipy.special import softmax\n",
    "\n",
    "# Load tokenizer and model\n",
    "MODEL = \"lxyuan/distilbert-base-multilingual-cased-sentiments-student\"\n",
    "tokenizer = AutoTokenizer.from_pretrained(MODEL)\n",
    "model = AutoModelForSequenceClassification.from_pretrained(MODEL)\n",
    "\n",
    "\n",
    "\n",
    "# Create lists to store predictions and true labels\n",
    "predicted_labels = []\n",
    "true_labels = df['label'].tolist()  # Assuming 'true_label' is the column name for true labels\n",
    "\n",
    "# Inspect the model to find the number of labels it predicts\n",
    "num_labels = model.config.num_labels\n",
    "\n",
    "# Define the label mapping (assuming 0: 'not depression', 1: 'depression')\n",
    "# Adjust this mapping if your model uses different indices\n",
    "labels = {i: i for i in range(num_labels)}\n",
    "\n",
    "# Iterate through the DataFrame and make predictions\n",
    "for index, row in df.iterrows():\n",
    "    text = row['tweet']\n",
    "    true_label = row['label']\n",
    "\n",
    "    # Tokenize and make predictions\n",
    "    encoded_input = tokenizer(text, return_tensors='pt', truncation=True, padding=True, max_length=512)\n",
    "    output = model(**encoded_input)\n",
    "    scores = output.logits[0].detach().numpy()\n",
    "    scores = softmax(scores)\n",
    "\n",
    "    # Get predicted label\n",
    "    predicted_label_index = np.argmax(scores)\n",
    "    predicted_label = labels[predicted_label_index]\n",
    "\n",
    "    # Store predicted labels\n",
    "    predicted_labels.append(predicted_label)\n",
    "\n",
    "# Add the predicted labels to the DataFrame\n",
    "df['predicted_sentiment'] = predicted_labels\n",
    "\n",
    "# Calculate accuracy and F1 score\n",
    "cm = classification_report(true_labels,predicted_labels)\n",
    "print(cm)\n"
   ]
  },
  {
   "cell_type": "code",
   "execution_count": 8,
   "metadata": {},
   "outputs": [],
   "source": [
    "from deep_translator import GoogleTranslator\n"
   ]
  },
  {
   "cell_type": "code",
   "execution_count": 10,
   "metadata": {},
   "outputs": [
    {
     "name": "stdout",
     "output_type": "stream",
     "text": [
      "                                               tweet  label  \\\n",
      "0                  별이야!!!!!! https://t.co/0ayXZJeew1      0   \n",
      "1  아아아아아ㅏ아아ㅏ\\n피곤한데 오랜만에 틧터하면서 밤 샐래\\n같이 하실 분? 없으면 ...      1   \n",
      "2  바둑아!!\\n개자쓱아 경인선 갔으면 화끈하게~마~\\n백신 마자쁘라\\n쪽팔리게스루 뭔...      1   \n",
      "3  외롭다,,,누가 나한테 고백 좀 해주시와요\\n#트친소 #게친소 #게이들 https:...      1   \n",
      "4        갑자기업노말재탕중 역시마음의고향이에 https://t.co/5pvwPLEnaN      0   \n",
      "\n",
      "                                          translated  \n",
      "0         It's a star!!!!!!! https://t.co/0ayXZJeew1  \n",
      "1  Ahhhhhhh\\nI'm tired, but it's been a while sin...  \n",
      "2  Baduk-ah!!\\nIf you go to the Gyeongin Line, yo...  \n",
      "3  I'm lonely,,,someone please confess to me\\n#tc...  \n",
      "4  Suddenly, I'm rehashing the normal version of ...  \n"
     ]
    }
   ],
   "source": [
    "def translate_text(text):\n",
    "    translated_text = GoogleTranslator(source='auto', target='en').translate(text)\n",
    "    return translated_text\n",
    "\n",
    "# Apply translation to the \"tweet\" column and create a new column \"translated\"\n",
    "df['translated'] = df['tweet'].apply(translate_text)\n",
    "\n",
    "# Display the DataFrame with the translated column\n",
    "print(df.head())\n",
    "df.to_csv(\"/home/luo/projects/MDD/data/depress twitter Korean/depress_twitter_Korean_en.csv\")"
   ]
  },
  {
   "cell_type": "code",
   "execution_count": null,
   "metadata": {},
   "outputs": [],
   "source": []
  },
  {
   "cell_type": "code",
   "execution_count": 11,
   "metadata": {},
   "outputs": [],
   "source": [
    "import numpy as np\n",
    "\n",
    "from scipy.special import softmax"
   ]
  },
  {
   "cell_type": "code",
   "execution_count": 12,
   "metadata": {},
   "outputs": [
    {
     "name": "stderr",
     "output_type": "stream",
     "text": [
      "/home/luo/anaconda3/envs/mdd/lib/python3.11/site-packages/huggingface_hub/file_download.py:1132: FutureWarning: `resume_download` is deprecated and will be removed in version 1.0.0. Downloads always resume when possible. If you want to force a new download, use `force_download=True`.\n",
      "  warnings.warn(\n"
     ]
    },
    {
     "name": "stdout",
     "output_type": "stream",
     "text": [
      "              precision    recall  f1-score   support\n",
      "\n",
      "           0       0.38      0.39      0.39       499\n",
      "           1       0.37      0.36      0.37       500\n",
      "\n",
      "    accuracy                           0.38       999\n",
      "   macro avg       0.38      0.38      0.38       999\n",
      "weighted avg       0.38      0.38      0.38       999\n",
      "\n"
     ]
    }
   ],
   "source": [
    "import pandas as pd\n",
    "import numpy as np\n",
    "from transformers import AutoTokenizer, AutoModelForSequenceClassification\n",
    "import torch\n",
    "from sklearn.metrics import accuracy_score, f1_score\n",
    "from scipy.special import softmax\n",
    "\n",
    "# Load tokenizer and model\n",
    "MODEL = \"siebert/sentiment-roberta-large-english\"\n",
    "tokenizer = AutoTokenizer.from_pretrained(MODEL)\n",
    "model = AutoModelForSequenceClassification.from_pretrained(MODEL)\n",
    "\n",
    "# Load the dataset\n",
    "\n",
    "# Create lists to store predictions and true labels\n",
    "predicted_labels = []\n",
    "true_labels = df['label'].tolist()  # Assuming 'true_label' is the column name for true labels\n",
    "\n",
    "# Inspect the model to find the number of labels it predicts\n",
    "num_labels = model.config.num_labels\n",
    "\n",
    "# Define the label mapping (assuming 0: 'not depression', 1: 'depression')\n",
    "# Adjust this mapping if your model uses different indices\n",
    "labels = {i: i for i in range(num_labels)}\n",
    "\n",
    "# Iterate through the DataFrame and make predictions\n",
    "for index, row in df.iterrows():\n",
    "    text = row['translated']\n",
    "    true_label = row['label']\n",
    "\n",
    "    # Tokenize and make predictions\n",
    "    encoded_input = tokenizer(text, return_tensors='pt', truncation=True, padding=True, max_length=512)\n",
    "    output = model(**encoded_input)\n",
    "    scores = output.logits[0].detach().numpy()\n",
    "    scores = softmax(scores)\n",
    "\n",
    "    # Get predicted label\n",
    "    predicted_label_index = np.argmax(scores)\n",
    "    predicted_label = labels[predicted_label_index]\n",
    "\n",
    "    # Store predicted labels\n",
    "    predicted_labels.append(predicted_label)\n",
    "\n",
    "# Add the predicted labels to the DataFrame\n",
    "df['predicted_sentiment'] = predicted_labels\n",
    "\n",
    "# Calculate accuracy and F1 score\n",
    "cm = classification_report(true_labels,predicted_labels)\n",
    "print(cm)\n"
   ]
  },
  {
   "cell_type": "markdown",
   "metadata": {},
   "source": [
    "binary ： https://huggingface.co/siebert/sentiment-roberta-large-english"
   ]
  }
 ],
 "metadata": {
  "kernelspec": {
   "display_name": "base",
   "language": "python",
   "name": "python3"
  },
  "language_info": {
   "codemirror_mode": {
    "name": "ipython",
    "version": 3
   },
   "file_extension": ".py",
   "mimetype": "text/x-python",
   "name": "python",
   "nbconvert_exporter": "python",
   "pygments_lexer": "ipython3",
   "version": "3.11.9"
  }
 },
 "nbformat": 4,
 "nbformat_minor": 2
}

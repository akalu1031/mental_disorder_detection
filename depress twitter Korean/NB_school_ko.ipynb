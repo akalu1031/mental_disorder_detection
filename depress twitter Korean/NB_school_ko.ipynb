{
 "cells": [
  {
   "cell_type": "code",
   "execution_count": 1,
   "metadata": {},
   "outputs": [],
   "source": [
    "import pandas as pd \n",
    "import matplotlib. pyplot as plt \n",
    "import seaborn as sns\n",
    "from matplotlib import style \n",
    "style.use('ggplot')\n",
    "import re\n",
    "from nltk.tokenize import word_tokenize\n",
    "from nltk.stem import WordNetLemmatizer\n",
    "from nltk.corpus import stopwords\n",
    "stop_words = set(stopwords.words(\"english\"))\n",
    "from wordcloud import WordCloud\n",
    "from sklearn.feature_extraction.text import TfidfVectorizer\n",
    "from sklearn.model_selection import train_test_split\n",
    "from sklearn.naive_bayes import MultinomialNB\n",
    "from sklearn.metrics import accuracy_score,classification_report, confusion_matrix, f1_score\n",
    "\n"
   ]
  },
  {
   "cell_type": "code",
   "execution_count": 2,
   "metadata": {},
   "outputs": [
    {
     "name": "stdout",
     "output_type": "stream",
     "text": [
      "<class 'pandas.core.frame.DataFrame'>\n",
      "RangeIndex: 1000 entries, 0 to 999\n",
      "Data columns (total 2 columns):\n",
      " #   Column  Non-Null Count  Dtype \n",
      "---  ------  --------------  ----- \n",
      " 0   tweet   1000 non-null   object\n",
      " 1   label   1000 non-null   int64 \n",
      "dtypes: int64(1), object(1)\n",
      "memory usage: 15.8+ KB\n"
     ]
    }
   ],
   "source": [
    "df = pd.read_csv(\"C:\\Adv seminar\\graduation thesis\\data\\depress twitter Korean\\depress_twitter_Korean.csv\")\n",
    "df.info()"
   ]
  },
  {
   "cell_type": "code",
   "execution_count": 3,
   "metadata": {},
   "outputs": [],
   "source": [
    "def data_preprocessing (text):\n",
    "    if isinstance(text, float):\n",
    "        text=''\n",
    "\n",
    "    text = text.lower()\n",
    "    text = re.sub(r\"http\\s+|www\\S+http\\S+\", \"\",text,flags=re.MULTILINE)\n",
    "    text = re.sub(r'\\@w+|\\#','',text)\n",
    "    text = re.sub(r'[^\\w\\s]','',text)\n",
    "    text = re.sub(\"user\",'',text)\n",
    "    text = re.sub(\"url\",'',text)\n",
    "    text_tokens = word_tokenize(text)\n",
    "    filtered_text = [w for w in text_tokens if not w in stop_words]\n",
    "    return \" \".join(filtered_text)"
   ]
  },
  {
   "cell_type": "code",
   "execution_count": 4,
   "metadata": {},
   "outputs": [
    {
     "name": "stderr",
     "output_type": "stream",
     "text": [
      "C:\\Users\\xingr\\AppData\\Local\\Temp\\ipykernel_18108\\1806502255.py:1: UserWarning: Pandas doesn't allow columns to be created via a new attribute name - see https://pandas.pydata.org/pandas-docs/stable/indexing.html#attribute-access\n",
      "  df.text = df[\"tweet\"].apply(data_preprocessing)\n"
     ]
    },
    {
     "data": {
      "text/html": [
       "<div>\n",
       "<style scoped>\n",
       "    .dataframe tbody tr th:only-of-type {\n",
       "        vertical-align: middle;\n",
       "    }\n",
       "\n",
       "    .dataframe tbody tr th {\n",
       "        vertical-align: top;\n",
       "    }\n",
       "\n",
       "    .dataframe thead th {\n",
       "        text-align: right;\n",
       "    }\n",
       "</style>\n",
       "<table border=\"1\" class=\"dataframe\">\n",
       "  <thead>\n",
       "    <tr style=\"text-align: right;\">\n",
       "      <th></th>\n",
       "      <th>tweet</th>\n",
       "      <th>label</th>\n",
       "    </tr>\n",
       "  </thead>\n",
       "  <tbody>\n",
       "    <tr>\n",
       "      <th>0</th>\n",
       "      <td>별이야!!!!!! https://t.co/0ayXZJeew1</td>\n",
       "      <td>0</td>\n",
       "    </tr>\n",
       "    <tr>\n",
       "      <th>1</th>\n",
       "      <td>아아아아아ㅏ아아ㅏ\\n피곤한데 오랜만에 틧터하면서 밤 샐래\\n같이 하실 분? 없으면 ...</td>\n",
       "      <td>1</td>\n",
       "    </tr>\n",
       "    <tr>\n",
       "      <th>2</th>\n",
       "      <td>바둑아!!\\n개자쓱아 경인선 갔으면 화끈하게~마~\\n백신 마자쁘라\\n쪽팔리게스루 뭔...</td>\n",
       "      <td>1</td>\n",
       "    </tr>\n",
       "    <tr>\n",
       "      <th>3</th>\n",
       "      <td>외롭다,,,누가 나한테 고백 좀 해주시와요\\n#트친소 #게친소 #게이들 https:...</td>\n",
       "      <td>1</td>\n",
       "    </tr>\n",
       "    <tr>\n",
       "      <th>4</th>\n",
       "      <td>갑자기업노말재탕중 역시마음의고향이에 https://t.co/5pvwPLEnaN</td>\n",
       "      <td>0</td>\n",
       "    </tr>\n",
       "  </tbody>\n",
       "</table>\n",
       "</div>"
      ],
      "text/plain": [
       "                                               tweet  label\n",
       "0                  별이야!!!!!! https://t.co/0ayXZJeew1      0\n",
       "1  아아아아아ㅏ아아ㅏ\\n피곤한데 오랜만에 틧터하면서 밤 샐래\\n같이 하실 분? 없으면 ...      1\n",
       "2  바둑아!!\\n개자쓱아 경인선 갔으면 화끈하게~마~\\n백신 마자쁘라\\n쪽팔리게스루 뭔...      1\n",
       "3  외롭다,,,누가 나한테 고백 좀 해주시와요\\n#트친소 #게친소 #게이들 https:...      1\n",
       "4        갑자기업노말재탕중 역시마음의고향이에 https://t.co/5pvwPLEnaN      0"
      ]
     },
     "execution_count": 4,
     "metadata": {},
     "output_type": "execute_result"
    }
   ],
   "source": [
    "df.text = df[\"tweet\"].apply(data_preprocessing)\n",
    "df.head()"
   ]
  },
  {
   "cell_type": "code",
   "execution_count": 5,
   "metadata": {},
   "outputs": [
    {
     "data": {
      "text/plain": [
       "<Axes: xlabel='label', ylabel='count'>"
      ]
     },
     "execution_count": 5,
     "metadata": {},
     "output_type": "execute_result"
    },
    {
     "data": {
      "image/png": "[encoded data removed]",
      "text/plain": [
       "<Figure size 500x500 with 1 Axes>"
      ]
     },
     "metadata": {},
     "output_type": "display_data"
    }
   ],
   "source": [
    "\n",
    "df.text = df[\"tweet\"].apply(data_preprocessing)\n",
    "df = df.drop_duplicates('tweet')\n",
    "df['label'].value_counts()\n",
    "fig = plt.figure(figsize=(5,5))\n",
    "sns.countplot(x = 'label', data=df)"
   ]
  },
  {
   "cell_type": "code",
   "execution_count": 6,
   "metadata": {},
   "outputs": [
    {
     "name": "stdout",
     "output_type": "stream",
     "text": [
      "Number of features :19840\n",
      "\n",
      "First 20 features: \n",
      "['04' '04 17' '05일까지' '05일까지 2018년도' '0ayxzjeew1' '0fp4ycw4ko'\n",
      " '0k9nixf4ub' '0lrwxxaeiy' '0nxpiurmis' '0qugrplevq' '0vitsyitcc'\n",
      " '0w8gw4glu7' '0xn4hlcnbo' '0zcdjwjgcn' '0명' '0명 되는날' '10' '10 졸음' '100'\n",
      " '100 https']\n"
     ]
    }
   ],
   "source": [
    "vect = TfidfVectorizer(ngram_range = (1,2)).fit(df['tweet'])\n",
    "feature_names = vect.get_feature_names_out()\n",
    "print('Number of features :{}\\n'.format(len(feature_names)))\n",
    "print('First 20 features: \\n{}'.format(feature_names[:20]))"
   ]
  },
  {
   "cell_type": "code",
   "execution_count": 7,
   "metadata": {},
   "outputs": [
    {
     "name": "stdout",
     "output_type": "stream",
     "text": [
      "size of x_train (799, 19840)\n",
      "size of y_train (799,)\n",
      "size of x_test (200, 19840)\n",
      "size of y_test (200,)\n"
     ]
    }
   ],
   "source": [
    "X = df['tweet']\n",
    "Y = df['label']\n",
    "X = vect.transform(X)\n",
    "\n",
    "x_train, x_test, y_train, y_test = train_test_split(X,Y, test_size= 0.2, random_state= 42)\n",
    "\n",
    "x_train = x_train[y_train.notna()]\n",
    "y_train = y_train.dropna()\n",
    "\n",
    "x_test = x_test[y_test.notna()]\n",
    "y_test = y_test.dropna()\n",
    "\n",
    "print(f'size of x_train {x_train.shape}')\n",
    "print(f'size of y_train {y_train.shape}')\n",
    "print(f'size of x_test {x_test.shape}')\n",
    "print(f'size of y_test {y_test.shape}')"
   ]
  },
  {
   "cell_type": "code",
   "execution_count": 8,
   "metadata": {},
   "outputs": [
    {
     "name": "stdout",
     "output_type": "stream",
     "text": [
      "Test accuarcy : 60.00%\n",
      "0.47\n"
     ]
    }
   ],
   "source": [
    "nb = MultinomialNB()\n",
    "nb.fit(x_train,y_train)\n",
    "nb_predict = nb.predict(x_test)\n",
    "nb_acc = accuracy_score(nb_predict,y_test)\n",
    "print('Test accuarcy : {:.2f}%'.format(nb_acc*100))\n",
    "print(round(f1_score(y_test, nb_predict,pos_label=1.0),2))"
   ]
  },
  {
   "cell_type": "code",
   "execution_count": 9,
   "metadata": {},
   "outputs": [
    {
     "data": {
      "image/png": "[encoded data removed]",
      "text/plain": [
       "<Figure size 640x480 with 2 Axes>"
      ]
     },
     "metadata": {},
     "output_type": "display_data"
    }
   ],
   "source": [
    "cm = confusion_matrix(y_test,nb_predict)\n",
    "sns.heatmap(cm,\n",
    "            annot= True,\n",
    "            fmt='g',\n",
    "            xticklabels=['Depress','NOT'],\n",
    "            yticklabels=['Depress','NOT'])\n",
    "plt.ylabel('Prediction', fontsize = 10)\n",
    "plt.xlabel('Actual',fontsize = 10)\n",
    "plt.title(\"Naive Bayes\", fontsize = 13)\n",
    "plt.show()\n"
   ]
  }
 ],
 "metadata": {
  "kernelspec": {
   "display_name": "base",
   "language": "python",
   "name": "python3"
  },
  "language_info": {
   "codemirror_mode": {
    "name": "ipython",
    "version": 3
   },
   "file_extension": ".py",
   "mimetype": "text/x-python",
   "name": "python",
   "nbconvert_exporter": "python",
   "pygments_lexer": "ipython3",
   "version": "3.8.19"
  }
 },
 "nbformat": 4,
 "nbformat_minor": 2
}

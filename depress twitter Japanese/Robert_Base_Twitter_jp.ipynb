{
 "cells": [
  {
   "cell_type": "code",
   "execution_count": 1,
   "metadata": {},
   "outputs": [
    {
     "name": "stderr",
     "output_type": "stream",
     "text": [
      "/home/luo/anaconda3/envs/mdd/lib/python3.11/site-packages/tqdm/auto.py:21: TqdmWarning: IProgress not found. Please update jupyter and ipywidgets. See https://ipywidgets.readthedocs.io/en/stable/user_install.html\n",
      "  from .autonotebook import tqdm as notebook_tqdm\n"
     ]
    }
   ],
   "source": [
    "import pandas as pd \n",
    "import matplotlib. pyplot as plt \n",
    "import seaborn as sns\n",
    "from matplotlib import style \n",
    "style.use('ggplot')\n",
    "import re\n",
    "from nltk.tokenize import word_tokenize\n",
    "from nltk.stem import WordNetLemmatizer\n",
    "from nltk.corpus import stopwords\n",
    "stop_words = set(stopwords.words(\"english\"))\n",
    "from wordcloud import WordCloud\n",
    "from sklearn.feature_extraction.text import TfidfVectorizer\n",
    "from sklearn.model_selection import train_test_split\n",
    "from sklearn.tree import DecisionTreeClassifier\n",
    "from sklearn.metrics import accuracy_score,classification_report, confusion_matrix, f1_score\n",
    "from transformers import AutoTokenizer, AutoModelForSequenceClassification\n",
    "import torch\n"
   ]
  },
  {
   "cell_type": "code",
   "execution_count": 4,
   "metadata": {},
   "outputs": [
    {
     "name": "stderr",
     "output_type": "stream",
     "text": [
      "c:\\Users\\xingr\\miniconda3\\lib\\site-packages\\huggingface_hub\\file_download.py:157: UserWarning: `huggingface_hub` cache-system uses symlinks by default to efficiently store duplicated files but your machine does not support them in C:\\Users\\xingr\\.cache\\huggingface\\hub\\models--christian-phu--bert-finetuned-japanese-sentiment. Caching files will still work but in a degraded version that might require more space on your disk. This warning can be disabled by setting the `HF_HUB_DISABLE_SYMLINKS_WARNING` environment variable. For more details, see https://huggingface.co/docs/huggingface_hub/how-to-cache#limitations.\n",
      "To support symlinks on Windows, you either need to activate Developer Mode or to run Python as an administrator. In order to see activate developer mode, see this article: https://docs.microsoft.com/en-us/windows/apps/get-started/enable-your-device-for-development\n",
      "  warnings.warn(message)\n"
     ]
    }
   ],
   "source": [
    "tokenizer = AutoTokenizer.from_pretrained(\"christian-phu/bert-finetuned-japanese-sentiment\")\n",
    "model = AutoModelForSequenceClassification.from_pretrained(\"christian-phu/bert-finetuned-japanese-sentiment\")"
   ]
  },
  {
   "cell_type": "code",
   "execution_count": 2,
   "metadata": {},
   "outputs": [
    {
     "name": "stdout",
     "output_type": "stream",
     "text": [
      "<class 'pandas.core.frame.DataFrame'>\n",
      "RangeIndex: 1000 entries, 0 to 999\n",
      "Data columns (total 2 columns):\n",
      " #   Column  Non-Null Count  Dtype \n",
      "---  ------  --------------  ----- \n",
      " 0   tweet   1000 non-null   object\n",
      " 1   label   1000 non-null   int64 \n",
      "dtypes: int64(1), object(1)\n",
      "memory usage: 15.8+ KB\n"
     ]
    }
   ],
   "source": [
    "df = pd.read_csv(\"/home/luo/projects/MDD/data/depress twitter Japanese/depress_twitter_Japanese.csv\")\n",
    "df.info()"
   ]
  },
  {
   "cell_type": "code",
   "execution_count": 3,
   "metadata": {},
   "outputs": [],
   "source": [
    "def data_preprocessing (text):\n",
    "    if isinstance(text, float):\n",
    "        text=''\n",
    "\n",
    "    text = text.lower()\n",
    "    text = re.sub(r\"http\\s+|www\\S+http\\S+\", \"\",text,flags=re.MULTILINE)\n",
    "    text = re.sub(r'\\@w+|\\#','',text)\n",
    "    text = re.sub(r'[^\\w\\s]','',text)\n",
    "    text = re.sub(\"user\",'',text)\n",
    "    text = re.sub(\"url\",'',text)\n",
    "    text_tokens = word_tokenize(text)\n",
    "    filtered_text = [w for w in text_tokens if not w in stop_words]\n",
    "    return \" \".join(filtered_text)"
   ]
  },
  {
   "cell_type": "code",
   "execution_count": 4,
   "metadata": {},
   "outputs": [
    {
     "name": "stderr",
     "output_type": "stream",
     "text": [
      "/tmp/ipykernel_3451418/1806502255.py:1: UserWarning: Pandas doesn't allow columns to be created via a new attribute name - see https://pandas.pydata.org/pandas-docs/stable/indexing.html#attribute-access\n",
      "  df.text = df[\"tweet\"].apply(data_preprocessing)\n"
     ]
    },
    {
     "data": {
      "text/html": [
       "<div>\n",
       "<style scoped>\n",
       "    .dataframe tbody tr th:only-of-type {\n",
       "        vertical-align: middle;\n",
       "    }\n",
       "\n",
       "    .dataframe tbody tr th {\n",
       "        vertical-align: top;\n",
       "    }\n",
       "\n",
       "    .dataframe thead th {\n",
       "        text-align: right;\n",
       "    }\n",
       "</style>\n",
       "<table border=\"1\" class=\"dataframe\">\n",
       "  <thead>\n",
       "    <tr style=\"text-align: right;\">\n",
       "      <th></th>\n",
       "      <th>tweet</th>\n",
       "      <th>label</th>\n",
       "    </tr>\n",
       "  </thead>\n",
       "  <tbody>\n",
       "    <tr>\n",
       "      <th>0</th>\n",
       "      <td>調べてみたら、私のBEはまだ発送したばっかだったみたい😂\\nどんまい！\\nでももうちょっとで...</td>\n",
       "      <td>0</td>\n",
       "    </tr>\n",
       "    <tr>\n",
       "      <th>1</th>\n",
       "      <td>弁当買ったらしょう油付いてたんやけど、どれにかけるやつなん？( ˙꒳​˙  ) https:...</td>\n",
       "      <td>1</td>\n",
       "    </tr>\n",
       "    <tr>\n",
       "      <th>2</th>\n",
       "      <td>★体の悩み★相互フォロー支援\\n体のあらゆる悩みについての情報配信・受信を支援するアカウント...</td>\n",
       "      <td>0</td>\n",
       "    </tr>\n",
       "    <tr>\n",
       "      <th>3</th>\n",
       "      <td>【#ユナイト神尾晋一郎】\\n\\n2月13日（土）26時放送📻\\n『U-nite 81Satu...</td>\n",
       "      <td>0</td>\n",
       "    </tr>\n",
       "    <tr>\n",
       "      <th>4</th>\n",
       "      <td>【完売商品情報】\\n\\n『WE ARE 7ORDER IN PARCO』\\n・ポーチ　Mサイ...</td>\n",
       "      <td>0</td>\n",
       "    </tr>\n",
       "  </tbody>\n",
       "</table>\n",
       "</div>"
      ],
      "text/plain": [
       "                                               tweet  label\n",
       "0  調べてみたら、私のBEはまだ発送したばっかだったみたい😂\\nどんまい！\\nでももうちょっとで...      0\n",
       "1  弁当買ったらしょう油付いてたんやけど、どれにかけるやつなん？( ˙꒳​˙  ) https:...      1\n",
       "2  ★体の悩み★相互フォロー支援\\n体のあらゆる悩みについての情報配信・受信を支援するアカウント...      0\n",
       "3  【#ユナイト神尾晋一郎】\\n\\n2月13日（土）26時放送📻\\n『U-nite 81Satu...      0\n",
       "4  【完売商品情報】\\n\\n『WE ARE 7ORDER IN PARCO』\\n・ポーチ　Mサイ...      0"
      ]
     },
     "execution_count": 4,
     "metadata": {},
     "output_type": "execute_result"
    }
   ],
   "source": [
    "df.text = df[\"tweet\"].apply(data_preprocessing)\n",
    "df.head()"
   ]
  },
  {
   "cell_type": "code",
   "execution_count": 5,
   "metadata": {},
   "outputs": [
    {
     "data": {
      "text/plain": [
       "<Axes: xlabel='label', ylabel='count'>"
      ]
     },
     "execution_count": 5,
     "metadata": {},
     "output_type": "execute_result"
    },
    {
     "data": {
      "image/png": "[encoded data removed]",
      "text/plain": [
       "<Figure size 500x500 with 1 Axes>"
      ]
     },
     "metadata": {},
     "output_type": "display_data"
    }
   ],
   "source": [
    "\n",
    "df.text = df[\"tweet\"].apply(data_preprocessing)\n",
    "df = df.drop_duplicates('tweet')\n",
    "df['label'].value_counts()\n",
    "fig = plt.figure(figsize=(5,5))\n",
    "sns.countplot(x = 'label', data=df)"
   ]
  },
  {
   "cell_type": "code",
   "execution_count": 6,
   "metadata": {},
   "outputs": [],
   "source": [
    "predicted_labels = []\n",
    "true_labels = df['label'].tolist()"
   ]
  },
  {
   "cell_type": "code",
   "execution_count": 15,
   "metadata": {},
   "outputs": [],
   "source": [
    "labels = {0: 0, 1: 1} "
   ]
  },
  {
   "cell_type": "code",
   "execution_count": 7,
   "metadata": {},
   "outputs": [],
   "source": [
    "import numpy as np"
   ]
  },
  {
   "cell_type": "code",
   "execution_count": 24,
   "metadata": {},
   "outputs": [
    {
     "name": "stdout",
     "output_type": "stream",
     "text": [
      "              precision    recall  f1-score   support\n",
      "\n",
      "           0       0.53      0.13      0.21       500\n",
      "           1       0.43      0.11      0.17       500\n",
      "           2       0.00      0.00      0.00         0\n",
      "\n",
      "    accuracy                           0.12      1000\n",
      "   macro avg       0.32      0.08      0.13      1000\n",
      "weighted avg       0.48      0.12      0.19      1000\n",
      "\n"
     ]
    },
    {
     "name": "stderr",
     "output_type": "stream",
     "text": [
      "c:\\Users\\xingr\\miniconda3\\lib\\site-packages\\sklearn\\metrics\\_classification.py:1471: UndefinedMetricWarning: Recall and F-score are ill-defined and being set to 0.0 in labels with no true samples. Use `zero_division` parameter to control this behavior.\n",
      "  _warn_prf(average, modifier, msg_start, len(result))\n",
      "c:\\Users\\xingr\\miniconda3\\lib\\site-packages\\sklearn\\metrics\\_classification.py:1471: UndefinedMetricWarning: Recall and F-score are ill-defined and being set to 0.0 in labels with no true samples. Use `zero_division` parameter to control this behavior.\n",
      "  _warn_prf(average, modifier, msg_start, len(result))\n",
      "c:\\Users\\xingr\\miniconda3\\lib\\site-packages\\sklearn\\metrics\\_classification.py:1471: UndefinedMetricWarning: Recall and F-score are ill-defined and being set to 0.0 in labels with no true samples. Use `zero_division` parameter to control this behavior.\n",
      "  _warn_prf(average, modifier, msg_start, len(result))\n"
     ]
    }
   ],
   "source": [
    "import pandas as pd\n",
    "import numpy as np\n",
    "from transformers import AutoTokenizer, AutoModelForSequenceClassification\n",
    "import torch\n",
    "from sklearn.metrics import accuracy_score, f1_score\n",
    "from scipy.special import softmax\n",
    "\n",
    "# Load tokenizer and model\n",
    "MODEL = \"christian-phu/bert-finetuned-japanese-sentiment\"\n",
    "tokenizer = AutoTokenizer.from_pretrained(MODEL)\n",
    "model = AutoModelForSequenceClassification.from_pretrained(MODEL)\n",
    "\n",
    "# Load the dataset\n",
    "df = pd.read_csv('C:\\Adv seminar\\graduation thesis\\data\\depress twitter Japanese\\depress_twitter_Japanese.csv')  # Adjust the file name accordingly\n",
    "\n",
    "# Create lists to store predictions and true labels\n",
    "predicted_labels = []\n",
    "true_labels = df['label'].tolist()  # Assuming 'true_label' is the column name for true labels\n",
    "\n",
    "# Inspect the model to find the number of labels it predicts\n",
    "num_labels = model.config.num_labels\n",
    "\n",
    "# Define the label mapping (assuming 0: 'not depression', 1: 'depression')\n",
    "# Adjust this mapping if your model uses different indices\n",
    "labels = {i: i for i in range(num_labels)}\n",
    "\n",
    "# Iterate through the DataFrame and make predictions\n",
    "for index, row in df.iterrows():\n",
    "    text = row['tweet']\n",
    "    true_label = row['label']\n",
    "\n",
    "    # Tokenize and make predictions\n",
    "    encoded_input = tokenizer(text, return_tensors='pt', truncation=True, padding=True, max_length=512)\n",
    "    output = model(**encoded_input)\n",
    "    scores = output.logits[0].detach().numpy()\n",
    "    scores = softmax(scores)\n",
    "\n",
    "    # Get predicted label\n",
    "    predicted_label_index = np.argmax(scores)\n",
    "    predicted_label = labels[predicted_label_index]\n",
    "\n",
    "    # Store predicted labels\n",
    "    predicted_labels.append(predicted_label)\n",
    "\n",
    "# Add the predicted labels to the DataFrame\n",
    "df['predicted_sentiment'] = predicted_labels\n",
    "\n",
    "# Calculate accuracy and F1 score\n",
    "cm = classification_report(true_labels,predicted_labels)\n",
    "print(cm)\n"
   ]
  },
  {
   "cell_type": "code",
   "execution_count": 8,
   "metadata": {},
   "outputs": [],
   "source": [
    "from deep_translator import GoogleTranslator\n"
   ]
  },
  {
   "cell_type": "code",
   "execution_count": 9,
   "metadata": {},
   "outputs": [
    {
     "name": "stdout",
     "output_type": "stream",
     "text": [
      "                                               tweet  label  \\\n",
      "0  調べてみたら、私のBEはまだ発送したばっかだったみたい😂\\nどんまい！\\nでももうちょっとで...      0   \n",
      "1  弁当買ったらしょう油付いてたんやけど、どれにかけるやつなん？( ˙꒳​˙  ) https:...      1   \n",
      "2  ★体の悩み★相互フォロー支援\\n体のあらゆる悩みについての情報配信・受信を支援するアカウント...      0   \n",
      "3  【#ユナイト神尾晋一郎】\\n\\n2月13日（土）26時放送📻\\n『U-nite 81Satu...      0   \n",
      "4  【完売商品情報】\\n\\n『WE ARE 7ORDER IN PARCO』\\n・ポーチ　Mサイ...      0   \n",
      "\n",
      "                                          translated  \n",
      "0  I checked and it seems my BE has only just bee...  \n",
      "1  When I bought a bento, it came with soy sauce,...  \n",
      "2  ★Physical issues★Mutual follow support\\nThis i...  \n",
      "3  [#UniteKamioShinichiro]\\n\\nAiring on Saturday,...  \n",
      "4  [Information on sold-out items]\\n\\n\"WE ARE 7OR...  \n"
     ]
    }
   ],
   "source": [
    "def translate_text(text):\n",
    "    translated_text = GoogleTranslator(source='auto', target='en').translate(text)\n",
    "    return translated_text\n",
    "\n",
    "# Apply translation to the \"tweet\" column and create a new column \"translated\"\n",
    "df['translated'] = df['tweet'].apply(translate_text)\n",
    "\n",
    "# Display the DataFrame with the translated column\n",
    "print(df.head())"
   ]
  },
  {
   "cell_type": "code",
   "execution_count": 10,
   "metadata": {},
   "outputs": [],
   "source": [
    "import numpy as np\n",
    "\n",
    "from scipy.special import softmax"
   ]
  },
  {
   "cell_type": "code",
   "execution_count": 11,
   "metadata": {},
   "outputs": [
    {
     "name": "stdout",
     "output_type": "stream",
     "text": [
      "              precision    recall  f1-score   support\n",
      "\n",
      "           0       0.54      0.26      0.35       500\n",
      "           1       0.50      0.77      0.61       487\n",
      "\n",
      "    accuracy                           0.51       987\n",
      "   macro avg       0.52      0.51      0.48       987\n",
      "weighted avg       0.52      0.51      0.48       987\n",
      "\n"
     ]
    }
   ],
   "source": [
    "import pandas as pd\n",
    "import numpy as np\n",
    "from transformers import AutoTokenizer, AutoModelForSequenceClassification\n",
    "import torch\n",
    "from sklearn.metrics import accuracy_score, f1_score\n",
    "from scipy.special import softmax\n",
    "\n",
    "# Load tokenizer and model\n",
    "MODEL = \"siebert/sentiment-roberta-large-english\"\n",
    "tokenizer = AutoTokenizer.from_pretrained(MODEL)\n",
    "model = AutoModelForSequenceClassification.from_pretrained(MODEL)\n",
    "\n",
    "# Load the dataset\n",
    "\n",
    "# Create lists to store predictions and true labels\n",
    "predicted_labels = []\n",
    "true_labels = df['label'].tolist()  # Assuming 'true_label' is the column name for true labels\n",
    "\n",
    "# Inspect the model to find the number of labels it predicts\n",
    "num_labels = model.config.num_labels\n",
    "\n",
    "# Define the label mapping (assuming 0: 'not depression', 1: 'depression')\n",
    "# Adjust this mapping if your model uses different indices\n",
    "labels = {i: i for i in range(num_labels)}\n",
    "\n",
    "# Iterate through the DataFrame and make predictions\n",
    "for index, row in df.iterrows():\n",
    "    text = row['translated']\n",
    "    true_label = row['label']\n",
    "\n",
    "    # Tokenize and make predictions\n",
    "    encoded_input = tokenizer(text, return_tensors='pt', truncation=True, padding=True, max_length=512)\n",
    "    output = model(**encoded_input)\n",
    "    scores = output.logits[0].detach().numpy()\n",
    "    scores = softmax(scores)\n",
    "\n",
    "    # Get predicted label\n",
    "    predicted_label_index = np.argmax(scores)\n",
    "    predicted_label = labels[predicted_label_index]\n",
    "\n",
    "    # Store predicted labels\n",
    "    predicted_labels.append(predicted_label)\n",
    "\n",
    "# Add the predicted labels to the DataFrame\n",
    "df['predicted_sentiment'] = predicted_labels\n",
    "\n",
    "# Calculate accuracy and F1 score\n",
    "cm = classification_report(true_labels,predicted_labels)\n",
    "print(cm)\n"
   ]
  },
  {
   "cell_type": "code",
   "execution_count": null,
   "metadata": {},
   "outputs": [],
   "source": []
  }
 ],
 "metadata": {
  "kernelspec": {
   "display_name": "base",
   "language": "python",
   "name": "python3"
  },
  "language_info": {
   "codemirror_mode": {
    "name": "ipython",
    "version": 3
   },
   "file_extension": ".py",
   "mimetype": "text/x-python",
   "name": "python",
   "nbconvert_exporter": "python",
   "pygments_lexer": "ipython3",
   "version": "3.11.9"
  }
 },
 "nbformat": 4,
 "nbformat_minor": 2
}
